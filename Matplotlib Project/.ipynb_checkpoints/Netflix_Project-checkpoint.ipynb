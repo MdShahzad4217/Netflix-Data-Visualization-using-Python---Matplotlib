{
 "cells": [
  {
   "cell_type": "code",
   "execution_count": 1,
   "id": "fa87b549-ba58-48c5-bf51-c4de95cb67d2",
   "metadata": {},
   "outputs": [],
   "source": [
    "import pandas as pd\n",
    "import matplotlib.pyplot as plt"
   ]
  },
  {
   "cell_type": "code",
   "execution_count": 2,
   "id": "bd567952-85e5-41c5-b970-0dbac3851230",
   "metadata": {},
   "outputs": [],
   "source": [
    "Data = pd.read_csv(\"netflix_titles-checkpoint.csv\")\n",
    "Data = Data.dropna(subset=['type', 'release_year', 'rating', 'country', 'duration'])"
   ]
  },
  {
   "cell_type": "code",
   "execution_count": 3,
   "id": "a34e4b0b-a24f-47d4-bbdd-db0d773575ca",
   "metadata": {},
   "outputs": [
    {
     "data": {
      "image/png": "[encoded data removed]",
      "text/plain": [
       "<Figure size 600x400 with 1 Axes>"
      ]
     },
     "metadata": {},
     "output_type": "display_data"
    }
   ],
   "source": [
    "# 1. Bar Chart: Number of Movies vs TV Shows\n",
    "type_count = Data['type'].value_counts()\n",
    "plt.figure(figsize=(6, 4))\n",
    "plt.bar(type_count.index.tolist(), type_count.values.tolist(), color=['blue', 'orange'])\n",
    "plt.title(\"Number of Movies vs TV Shows on Netflix\")\n",
    "plt.xlabel('Type')\n",
    "plt.ylabel('Count')\n",
    "plt.tight_layout()\n",
    "plt.savefig('Movies_Vs_TvShows.png')\n",
    "plt.show()\n"
   ]
  },
  {
   "cell_type": "code",
   "execution_count": 5,
   "id": "5e388fb2-5efc-406b-a66c-9d8ed3ddad5c",
   "metadata": {},
   "outputs": [
    {
     "ename": "NameError",
     "evalue": "name 'rating_count' is not defined",
     "output_type": "error",
     "traceback": [
      "\u001b[1;31m---------------------------------------------------------------------------\u001b[0m",
      "\u001b[1;31mNameError\u001b[0m                                 Traceback (most recent call last)",
      "Cell \u001b[1;32mIn[5], line 17\u001b[0m\n\u001b[0;32m      3\u001b[0m Rating_Count \u001b[38;5;241m=\u001b[39m Rating_Count\u001b[38;5;241m.\u001b[39msort_values(ascending\u001b[38;5;241m=\u001b[39m\u001b[38;5;28;01mFalse\u001b[39;00m)\n\u001b[0;32m      4\u001b[0m colors \u001b[38;5;241m=\u001b[39m [\n\u001b[0;32m      5\u001b[0m     \u001b[38;5;124m'\u001b[39m\u001b[38;5;124m#ff9999\u001b[39m\u001b[38;5;124m'\u001b[39m,  \u001b[38;5;66;03m# light red\u001b[39;00m\n\u001b[0;32m      6\u001b[0m     \u001b[38;5;124m'\u001b[39m\u001b[38;5;124m#66b3ff\u001b[39m\u001b[38;5;124m'\u001b[39m,  \u001b[38;5;66;03m# sky blue\u001b[39;00m\n\u001b[1;32m   (...)\u001b[0m\n\u001b[0;32m     14\u001b[0m     \u001b[38;5;124m'\u001b[39m\u001b[38;5;124m#b3d9ff\u001b[39m\u001b[38;5;124m'\u001b[39m   \u001b[38;5;66;03m# blue-gray\u001b[39;00m\n\u001b[0;32m     15\u001b[0m ]\n\u001b[1;32m---> 17\u001b[0m colors \u001b[38;5;241m=\u001b[39m colors[:\u001b[38;5;28mlen\u001b[39m(\u001b[43mrating_count\u001b[49m)]\n\u001b[0;32m     19\u001b[0m \u001b[38;5;66;03m# Plot\u001b[39;00m\n\u001b[0;32m     20\u001b[0m plt\u001b[38;5;241m.\u001b[39mfigure(figsize\u001b[38;5;241m=\u001b[39m(\u001b[38;5;241m7\u001b[39m, \u001b[38;5;241m7\u001b[39m))\n",
      "\u001b[1;31mNameError\u001b[0m: name 'rating_count' is not defined"
     ]
    }
   ],
   "source": [
    "Rating_Count = Data['rating'].value_counts()\n",
    "\n",
    "Rating_Count = Rating_Count.sort_values(ascending=False)\n",
    "colors = [\n",
    "    '#ff9999',  # light red\n",
    "    '#66b3ff',  # sky blue\n",
    "    '#99ff99',  # mint green\n",
    "    '#ffcc99',  # peach\n",
    "    '#c2c2f0',  # light purple\n",
    "    '#ffb3e6',  # pink\n",
    "    '#c2f0c2',  # soft green\n",
    "    '#ffdb4d',  # yellow\n",
    "    '#80ffe5',  # teal\n",
    "    '#b3d9ff'   # blue-gray\n",
    "]\n",
    "\n",
    "colors = colors[:len(rating_count)]\n",
    "\n",
    "# Plot\n",
    "plt.figure(figsize=(7, 7))\n",
    "plt.pie(Rating_Count, labels=rating_count.index, colors=colors,\n",
    "        autopct='%1.1f%%', startangle=90, wedgeprops={'edgecolor': 'black'})\n",
    "plt.title(\"Percentage of Content Ratings\", fontsize=14)\n",
    "plt.tight_layout()\n",
    "plt.savefig('Content_Rating.png')\n",
    "plt.show()\n"
   ]
  },
  {
   "cell_type": "code",
   "execution_count": null,
   "id": "e3cf72b4-6497-4214-8885-b8fbbc60341b",
   "metadata": {},
   "outputs": [],
   "source": [
    "Movies_Data = Data[Data['type'] == 'Movie'].copy()\n",
    "Movies_Data['duration_int'] = Movies_Data['duration'].str.replace('min', '', regex=False).astype(int)"
   ]
  },
  {
   "cell_type": "code",
   "execution_count": null,
   "id": "69f3cc5e-2590-4a35-9a39-565776558c4c",
   "metadata": {},
   "outputs": [],
   "source": [
    "plt.figure(figsize=(6, 4))\n",
    "plt.hist(Movies_Data['duration_int'], bins=30, color='coral')\n",
    "plt.title('Distribution of Movie Durations')\n",
    "plt.xlabel('Duration (Minutes)')\n",
    "plt.ylabel('Number of Movies')\n",
    "plt.tight_layout()\n",
    "plt.savefig('Movies_Duration.png')\n",
    "plt.show()"
   ]
  },
  {
   "cell_type": "code",
   "execution_count": null,
   "id": "3082319c-39fc-4792-a43a-f523a26e659c",
   "metadata": {},
   "outputs": [],
   "source": [
    "Release_Count = Data['release_year'].value_counts().sort_index()\n",
    "plt.figure(figsize=(10, 6))\n",
    "plt.scatter(Release_Count.index, Release_Count.values, color='red')\n",
    "plt.title('Release Year vs Number of Shows')\n",
    "plt.grid()\n",
    "plt.xlabel('Release Year')\n",
    "plt.ylabel('Number of Shows')\n",
    "plt.tight_layout()\n",
    "plt.savefig('Release_Shows.png')\n",
    "plt.show()\n"
   ]
  },
  {
   "cell_type": "code",
   "execution_count": null,
   "id": "6a14107e-4710-4af4-8896-456d6c0d52ea",
   "metadata": {},
   "outputs": [],
   "source": [
    "Country_Count = Data['country'].value_counts().head(10)\n",
    "\n",
    "plt.figure(figsize=(8, 6))\n",
    "plt.barh(Country_Count.index, Country_Count.values, color='teal')\n",
    "plt.title('Top 10 Countries by Number of Shows')\n",
    "plt.xlabel('Number of Shows')\n",
    "plt.ylabel('Country')\n",
    "plt.tight_layout()\n",
    "plt.savefig('Top_Countries.png')\n",
    "plt.show()"
   ]
  },
  {
   "cell_type": "code",
   "execution_count": null,
   "id": "049485c6-ccfe-43a8-9dcb-f2416514ac0f",
   "metadata": {},
   "outputs": [],
   "source": [
    "Content_by_Year = Data.groupby(['release_year', 'type']).size().unstack().fillna(0)\n",
    "fig, ax = plt.subplots(figsize=(12, 6))\n",
    "ax.plot(Content_by_Year.index, Content_by_Year['Movie'], color='green', label='Movies')\n",
    "ax.plot(Content_by_Year.index, Content_by_Year['TV Show'], color='red', label='TV Shows')\n",
    "\n",
    "ax.set_title('Movies and TV Shows Released Per Year')\n",
    "ax.set_xlabel('Year')\n",
    "ax.set_ylabel('Number of Releases')\n",
    "ax.legend()"
   ]
  },
  {
   "cell_type": "code",
   "execution_count": null,
   "id": "e7bdb5f5-24a3-4be0-a13b-c0926c892784",
   "metadata": {},
   "outputs": [],
   "source": []
  }
 ],
 "metadata": {
  "kernelspec": {
   "display_name": "Python 3 (ipykernel)",
   "language": "python",
   "name": "python3"
  },
  "language_info": {
   "codemirror_mode": {
    "name": "ipython",
    "version": 3
   },
   "file_extension": ".py",
   "mimetype": "text/x-python",
   "name": "python",
   "nbconvert_exporter": "python",
   "pygments_lexer": "ipython3",
   "version": "3.12.6"
  }
 },
 "nbformat": 4,
 "nbformat_minor": 5
}
